{
  "nbformat": 4,
  "nbformat_minor": 0,
  "metadata": {
    "colab": {
      "name": "desafio final poems",
      "provenance": [],
      "collapsed_sections": []
    },
    "kernelspec": {
      "name": "python3",
      "display_name": "Python 3"
    },
    "accelerator": "GPU"
  },
  "cells": [
    {
      "cell_type": "code",
      "metadata": {
        "id": "9i5u6NInb34j",
        "colab_type": "code",
        "colab": {}
      },
      "source": [
        "import pandas as pd\n",
        "import numpy as np\n",
        "import pickle\n",
        "import re\n",
        "import torch\n",
        "from torch import nn\n",
        "import torch.nn.functional as F\n",
        "# import locale\n",
        "# locale.setlocale(locale.LC_ALL, 'pt_BR.UTF-8')"
      ],
      "execution_count": 24,
      "outputs": []
    },
    {
      "cell_type": "code",
      "metadata": {
        "id": "gMoT1T6ScQ-y",
        "colab_type": "code",
        "colab": {
          "base_uri": "https://localhost:8080/",
          "height": 34
        },
        "outputId": "f9ff710e-c36c-4468-b0d6-8c8516e6e5b4"
      },
      "source": [
        "# check if GPU is available\n",
        "train_on_gpu = torch.cuda.is_available()\n",
        "if(train_on_gpu):\n",
        "    print('Training on GPU!')\n",
        "else: \n",
        "    print('No GPU available, training on CPU; consider making n_epochs very small.')"
      ],
      "execution_count": 25,
      "outputs": [
        {
          "output_type": "stream",
          "text": [
            "Training on GPU!\n"
          ],
          "name": "stdout"
        }
      ]
    },
    {
      "cell_type": "code",
      "metadata": {
        "id": "o9E2V0aOb6nG",
        "colab_type": "code",
        "colab": {
          "base_uri": "https://localhost:8080/",
          "height": 215
        },
        "outputId": "1d1f0ddd-da95-4824-e15c-0f11fa823cde"
      },
      "source": [
        "df = pd.read_csv('/content/drive/My Drive/Colab Notebooks/portuguese-poems.csv')\n",
        "print(df.shape)\n",
        "df.head()"
      ],
      "execution_count": 26,
      "outputs": [
        {
          "output_type": "stream",
          "text": [
            "(15543, 4)\n"
          ],
          "name": "stdout"
        },
        {
          "output_type": "execute_result",
          "data": {
            "text/html": [
              "<div>\n",
              "<style scoped>\n",
              "    .dataframe tbody tr th:only-of-type {\n",
              "        vertical-align: middle;\n",
              "    }\n",
              "\n",
              "    .dataframe tbody tr th {\n",
              "        vertical-align: top;\n",
              "    }\n",
              "\n",
              "    .dataframe thead th {\n",
              "        text-align: right;\n",
              "    }\n",
              "</style>\n",
              "<table border=\"1\" class=\"dataframe\">\n",
              "  <thead>\n",
              "    <tr style=\"text-align: right;\">\n",
              "      <th></th>\n",
              "      <th>Author</th>\n",
              "      <th>Title</th>\n",
              "      <th>Content</th>\n",
              "      <th>Views</th>\n",
              "    </tr>\n",
              "  </thead>\n",
              "  <tbody>\n",
              "    <tr>\n",
              "      <th>0</th>\n",
              "      <td>Cecília Meireles</td>\n",
              "      <td>Retrato</td>\n",
              "      <td>Eu não tinha este rosto de hoje,\\r\\nAssim calm...</td>\n",
              "      <td>1018431</td>\n",
              "    </tr>\n",
              "    <tr>\n",
              "      <th>1</th>\n",
              "      <td>Fernando Pessoa</td>\n",
              "      <td>Para ser grande, sê inteiro: nada</td>\n",
              "      <td>Para ser grande, sê inteiro: nada\\r\\nTeu exage...</td>\n",
              "      <td>1979413</td>\n",
              "    </tr>\n",
              "    <tr>\n",
              "      <th>2</th>\n",
              "      <td>Marina Colasanti</td>\n",
              "      <td>Eu sei, mas não devia</td>\n",
              "      <td>Eu sei que a gente se acostuma. Mas não devia....</td>\n",
              "      <td>301509</td>\n",
              "    </tr>\n",
              "    <tr>\n",
              "      <th>3</th>\n",
              "      <td>Carlos Drummond de Andrade</td>\n",
              "      <td>Quadrilha</td>\n",
              "      <td>João amava Teresa que amava Raimundo\\r\\nque am...</td>\n",
              "      <td>1421206</td>\n",
              "    </tr>\n",
              "    <tr>\n",
              "      <th>4</th>\n",
              "      <td>Eugénio de Andrade</td>\n",
              "      <td>É urgente o amor</td>\n",
              "      <td>É urgente o amor.\\r\\nÉ urgente um barco no mar...</td>\n",
              "      <td>621197</td>\n",
              "    </tr>\n",
              "  </tbody>\n",
              "</table>\n",
              "</div>"
            ],
            "text/plain": [
              "                       Author  ...    Views\n",
              "0            Cecília Meireles  ...  1018431\n",
              "1             Fernando Pessoa  ...  1979413\n",
              "2            Marina Colasanti  ...   301509\n",
              "3  Carlos Drummond de Andrade  ...  1421206\n",
              "4          Eugénio de Andrade  ...   621197\n",
              "\n",
              "[5 rows x 4 columns]"
            ]
          },
          "metadata": {
            "tags": []
          },
          "execution_count": 26
        }
      ]
    },
    {
      "cell_type": "code",
      "metadata": {
        "id": "YtSf9qVRb60b",
        "colab_type": "code",
        "colab": {
          "base_uri": "https://localhost:8080/",
          "height": 444
        },
        "outputId": "276c3fe7-6dca-4cec-c440-50abbb80fcda"
      },
      "source": [
        "df.Author.value_counts(normalize=True)[:10].plot.bar()"
      ],
      "execution_count": 27,
      "outputs": [
        {
          "output_type": "execute_result",
          "data": {
            "text/plain": [
              "<matplotlib.axes._subplots.AxesSubplot at 0x7fb4f0223ba8>"
            ]
          },
          "metadata": {
            "tags": []
          },
          "execution_count": 27
        },
        {
          "output_type": "display_data",
          "data": {
            "image/png": "[encoded data removed]",
            "text/plain": [
              "<Figure size 432x288 with 1 Axes>"
            ]
          },
          "metadata": {
            "tags": [],
            "needs_background": "light"
          }
        }
      ]
    },
    {
      "cell_type": "code",
      "metadata": {
        "id": "zc6mYhf0b63B",
        "colab_type": "code",
        "colab": {
          "base_uri": "https://localhost:8080/",
          "height": 105
        },
        "outputId": "74da0fd6-3aa3-46e0-83b4-27ce82eb7628"
      },
      "source": [
        "print('Contents vazios')\n",
        "print(df[df['Content'].isnull()].shape[0])\n",
        "print()\n",
        "df = df[df['Content'].notnull()]\n",
        "print('Content vazio')\n",
        "print(df[df['Content'].isnull()].shape[0])"
      ],
      "execution_count": 28,
      "outputs": [
        {
          "output_type": "stream",
          "text": [
            "Contents vazios\n",
            "2\n",
            "\n",
            "Content vazio\n",
            "0\n"
          ],
          "name": "stdout"
        }
      ]
    },
    {
      "cell_type": "code",
      "metadata": {
        "id": "oiZwmqWQKLoZ",
        "colab_type": "code",
        "colab": {}
      },
      "source": [
        "#df = df.sample(300)"
      ],
      "execution_count": 29,
      "outputs": []
    },
    {
      "cell_type": "code",
      "metadata": {
        "id": "6SKxswdUb65v",
        "colab_type": "code",
        "colab": {
          "base_uri": "https://localhost:8080/",
          "height": 197
        },
        "outputId": "3534f161-8148-40b2-df38-820dd05a31de"
      },
      "source": [
        "df = df.copy()\n",
        "df['Content'] = df['Content'].str.replace('\\s',' ' )\n",
        "df.head()"
      ],
      "execution_count": 30,
      "outputs": [
        {
          "output_type": "execute_result",
          "data": {
            "text/html": [
              "<div>\n",
              "<style scoped>\n",
              "    .dataframe tbody tr th:only-of-type {\n",
              "        vertical-align: middle;\n",
              "    }\n",
              "\n",
              "    .dataframe tbody tr th {\n",
              "        vertical-align: top;\n",
              "    }\n",
              "\n",
              "    .dataframe thead th {\n",
              "        text-align: right;\n",
              "    }\n",
              "</style>\n",
              "<table border=\"1\" class=\"dataframe\">\n",
              "  <thead>\n",
              "    <tr style=\"text-align: right;\">\n",
              "      <th></th>\n",
              "      <th>Author</th>\n",
              "      <th>Title</th>\n",
              "      <th>Content</th>\n",
              "      <th>Views</th>\n",
              "    </tr>\n",
              "  </thead>\n",
              "  <tbody>\n",
              "    <tr>\n",
              "      <th>0</th>\n",
              "      <td>Cecília Meireles</td>\n",
              "      <td>Retrato</td>\n",
              "      <td>Eu não tinha este rosto de hoje,  Assim calmo,...</td>\n",
              "      <td>1018431</td>\n",
              "    </tr>\n",
              "    <tr>\n",
              "      <th>1</th>\n",
              "      <td>Fernando Pessoa</td>\n",
              "      <td>Para ser grande, sê inteiro: nada</td>\n",
              "      <td>Para ser grande, sê inteiro: nada  Teu exagera...</td>\n",
              "      <td>1979413</td>\n",
              "    </tr>\n",
              "    <tr>\n",
              "      <th>2</th>\n",
              "      <td>Marina Colasanti</td>\n",
              "      <td>Eu sei, mas não devia</td>\n",
              "      <td>Eu sei que a gente se acostuma. Mas não devia....</td>\n",
              "      <td>301509</td>\n",
              "    </tr>\n",
              "    <tr>\n",
              "      <th>3</th>\n",
              "      <td>Carlos Drummond de Andrade</td>\n",
              "      <td>Quadrilha</td>\n",
              "      <td>João amava Teresa que amava Raimundo  que amav...</td>\n",
              "      <td>1421206</td>\n",
              "    </tr>\n",
              "    <tr>\n",
              "      <th>4</th>\n",
              "      <td>Eugénio de Andrade</td>\n",
              "      <td>É urgente o amor</td>\n",
              "      <td>É urgente o amor.  É urgente um barco no mar. ...</td>\n",
              "      <td>621197</td>\n",
              "    </tr>\n",
              "  </tbody>\n",
              "</table>\n",
              "</div>"
            ],
            "text/plain": [
              "                       Author  ...    Views\n",
              "0            Cecília Meireles  ...  1018431\n",
              "1             Fernando Pessoa  ...  1979413\n",
              "2            Marina Colasanti  ...   301509\n",
              "3  Carlos Drummond de Andrade  ...  1421206\n",
              "4          Eugénio de Andrade  ...   621197\n",
              "\n",
              "[5 rows x 4 columns]"
            ]
          },
          "metadata": {
            "tags": []
          },
          "execution_count": 30
        }
      ]
    },
    {
      "cell_type": "code",
      "metadata": {
        "id": "xC2-qb2_8eVE",
        "colab_type": "code",
        "colab": {}
      },
      "source": [
        "dfCoontent = df[['Content']]\n",
        "dfCoontent.to_csv('/content/drive/My Drive/Colab Notebooks/content.txt',header=None, index=None, sep=' ', mode='a')"
      ],
      "execution_count": 31,
      "outputs": []
    },
    {
      "cell_type": "markdown",
      "metadata": {
        "id": "m_mx9_AXMfzd",
        "colab_type": "text"
      },
      "source": [
        ""
      ]
    },
    {
      "cell_type": "code",
      "metadata": {
        "id": "601y-pka-xut",
        "colab_type": "code",
        "colab": {}
      },
      "source": [
        "# open text file and read in data as `text`\n",
        "with open('/content/drive/My Drive/Colab Notebooks/content.txt', 'r') as f:\n",
        "    text = f.read()"
      ],
      "execution_count": 32,
      "outputs": []
    },
    {
      "cell_type": "code",
      "metadata": {
        "id": "asB8jLR0jW-h",
        "colab_type": "code",
        "colab": {
          "base_uri": "https://localhost:8080/",
          "height": 53
        },
        "outputId": "0fdbe98e-6066-4ff1-d9ff-34a27c7b9cbf"
      },
      "source": [
        "text =  text.replace('\"','')\n",
        "text = re.sub(' +',' ',text)\n",
        "text = re.sub('\\n',' ',text)\n",
        "text[0:200]"
      ],
      "execution_count": 33,
      "outputs": [
        {
          "output_type": "execute_result",
          "data": {
            "application/vnd.google.colaboratory.intrinsic": {
              "type": "string"
            },
            "text/plain": [
              "'Uma certa quantidade de gente à procura de gente à procura duma certa quantidade Soma: uma paisagem extremamente à procura o problema da luz (adrede ligado ao problema da vergonha) e o problema do qua'"
            ]
          },
          "metadata": {
            "tags": []
          },
          "execution_count": 33
        }
      ]
    },
    {
      "cell_type": "code",
      "metadata": {
        "id": "kFVFNzVQ4MaI",
        "colab_type": "code",
        "colab": {}
      },
      "source": [
        ""
      ],
      "execution_count": null,
      "outputs": []
    },
    {
      "cell_type": "code",
      "metadata": {
        "id": "BUU1riXFd8QB",
        "colab_type": "code",
        "colab": {}
      },
      "source": [
        "\n",
        "\n",
        "# encode the text and map each character to an integer and vice versa\n",
        "\n",
        "# we create two dictionaries:\n",
        "# 1. int2char, which maps integers to characters\n",
        "# 2. char2int, which maps characters to unique integers\n",
        "\n",
        "chars = tuple(set(text))\n",
        "int2char = dict(enumerate(chars))\n",
        "char2int = {ch: ii for ii, ch in int2char.items()}\n",
        "\n",
        "# encode the text\n",
        "encoded = np.array([char2int[ch] for ch in text])"
      ],
      "execution_count": 34,
      "outputs": []
    },
    {
      "cell_type": "code",
      "metadata": {
        "id": "IItu1qp1b68s",
        "colab_type": "code",
        "colab": {}
      },
      "source": [
        "\n",
        "\n",
        "def one_hot_encode(arr, n_labels):\n",
        "    \n",
        "    # Initialize the the encoded array\n",
        "    one_hot = np.zeros((arr.size, n_labels), dtype=np.float32)\n",
        "    \n",
        "    # Fill the appropriate elements with ones\n",
        "    one_hot[np.arange(one_hot.shape[0]), arr.flatten()] = 1.\n",
        "    \n",
        "    # Finally reshape it to get back to the original array\n",
        "    one_hot = one_hot.reshape((*arr.shape, n_labels))\n",
        "    \n",
        "    return one_hot"
      ],
      "execution_count": 35,
      "outputs": []
    },
    {
      "cell_type": "code",
      "metadata": {
        "id": "5ycA4HBKb6_g",
        "colab_type": "code",
        "colab": {
          "base_uri": "https://localhost:8080/",
          "height": 70
        },
        "outputId": "f328abd0-43c0-45a1-df65-f1df9ece8eb5"
      },
      "source": [
        "# check that the function works as expected\n",
        "test_seq = np.array([[0, 5, 1]])\n",
        "one_hot = one_hot_encode(test_seq, 8)\n",
        "\n",
        "print(one_hot)"
      ],
      "execution_count": 36,
      "outputs": [
        {
          "output_type": "stream",
          "text": [
            "[[[1. 0. 0. 0. 0. 0. 0. 0.]\n",
            "  [0. 0. 0. 0. 0. 1. 0. 0.]\n",
            "  [0. 1. 0. 0. 0. 0. 0. 0.]]]\n"
          ],
          "name": "stdout"
        }
      ]
    },
    {
      "cell_type": "code",
      "metadata": {
        "id": "L58UnDAwb7Cz",
        "colab_type": "code",
        "colab": {}
      },
      "source": [
        "def get_batches(arr, batch_size, seq_length):\n",
        "    '''Create a generator that returns batches of size\n",
        "       batch_size x seq_length from arr.\n",
        "       \n",
        "       Arguments\n",
        "       ---------\n",
        "       arr: Array you want to make batches from\n",
        "       batch_size: Batch size, the number of sequences per batch\n",
        "       seq_length: Number of encoded chars in a sequence\n",
        "    '''\n",
        "    \n",
        "    batch_size_total = batch_size * seq_length\n",
        "    # total number of batches we can make\n",
        "    n_batches = len(arr)//batch_size_total\n",
        "    \n",
        "    # Keep only enough characters to make full batches\n",
        "    arr = arr[:n_batches * batch_size_total]\n",
        "    # Reshape into batch_size rows\n",
        "    arr = arr.reshape((batch_size, -1))\n",
        "    \n",
        "    # iterate through the array, one sequence at a time\n",
        "    for n in range(0, arr.shape[1], seq_length):\n",
        "        # The features\n",
        "        x = arr[:, n:n+seq_length]\n",
        "        # The targets, shifted by one\n",
        "        y = np.zeros_like(x)\n",
        "        try:\n",
        "            y[:, :-1], y[:, -1] = x[:, 1:], arr[:, n+seq_length]\n",
        "        except IndexError:\n",
        "            y[:, :-1], y[:, -1] = x[:, 1:], arr[:, 0]\n",
        "        yield x, y"
      ],
      "execution_count": 37,
      "outputs": []
    },
    {
      "cell_type": "code",
      "metadata": {
        "id": "FLunwo5ub7Fs",
        "colab_type": "code",
        "colab": {}
      },
      "source": [
        "class CharRNN(nn.Module):\n",
        "        \n",
        "        def __init__(self, tokens, n_hidden=256, n_layers=2,\n",
        "                                   drop_prob=0.5, lr=0.001):\n",
        "            super().__init__()\n",
        "            self.drop_prob = drop_prob\n",
        "            self.n_layers = n_layers\n",
        "            self.n_hidden = n_hidden\n",
        "            self.lr = lr\n",
        "            \n",
        "            # creating character dictionaries\n",
        "            self.chars = tokens\n",
        "            self.int2char = dict(enumerate(self.chars))\n",
        "            self.char2int = {ch: ii for ii, ch in self.int2char.items()}\n",
        "            \n",
        "            #lstm layer\n",
        "            self.lstm=nn.LSTM(len(self.chars),n_hidden,n_layers,\n",
        "                              dropout=drop_prob,batch_first=True)\n",
        "            \n",
        "            #dropout layer\n",
        "            self.dropout=nn.Dropout(drop_prob)\n",
        "            \n",
        "            #output layer\n",
        "            self.fc=nn.Linear(n_hidden,len(self.chars))\n",
        "    \n",
        "        \n",
        "        def forward(self, x, hidden):\n",
        "            ''' Forward pass through the network. \n",
        "                These inputs are x, and the hidden/cell state `hidden`. '''\n",
        "            ## Get the outputs and the new hidden state from the lstm\n",
        "            r_output, hidden = self.lstm(x, hidden)\n",
        "            \n",
        "            ## pass through a dropout layer\n",
        "            out = self.dropout(r_output)\n",
        "            \n",
        "            # Stack up LSTM outputs using view\n",
        "            # you may need to use contiguous to reshape the output\n",
        "            out = out.contiguous().view(-1, self.n_hidden)\n",
        "            \n",
        "            ## put x through the fully-connected layer\n",
        "            out = self.fc(out)\n",
        "            return out, hidden\n",
        "        \n",
        "        \n",
        "        def init_hidden(self, batch_size):\n",
        "            ''' Initializes hidden state '''\n",
        "            # Create two new tensors with sizes n_layers x batch_size x n_hidden,\n",
        "            # initialized to zero, for hidden state and cell state of LSTM\n",
        "            weight = next(self.parameters()).data\n",
        "            \n",
        "            if (train_on_gpu):\n",
        "                hidden = (weight.new(self.n_layers, batch_size, self.n_hidden).zero_().cuda(),\n",
        "                      weight.new(self.n_layers, batch_size, self.n_hidden).zero_().cuda())\n",
        "            else:\n",
        "                hidden = (weight.new(self.n_layers, batch_size, self.n_hidden).zero_(),\n",
        "                          weight.new(self.n_layers, batch_size, self.n_hidden).zero_())\n",
        "            \n",
        "            return hidden\n"
      ],
      "execution_count": 38,
      "outputs": []
    },
    {
      "cell_type": "code",
      "metadata": {
        "id": "xdby9pMeb7Je",
        "colab_type": "code",
        "colab": {}
      },
      "source": [
        "def train(net, data, epochs=10, batch_size=10, seq_length=50, lr=0.001, clip=5, val_frac=0.1, print_every=1000):\n",
        "        ''' Training a network \n",
        "        \n",
        "            Arguments\n",
        "            ---------\n",
        "            \n",
        "            net: CharRNN network\n",
        "            data: text data to train the network\n",
        "            epochs: Number of epochs to train\n",
        "            batch_size: Number of mini-sequences per mini-batch, aka batch size\n",
        "            seq_length: Number of character steps per mini-batch\n",
        "            lr: learning rate\n",
        "            clip: gradient clipping\n",
        "            val_frac: Fraction of data to hold out for validation\n",
        "            print_every: Number of steps for printing training and validation loss\n",
        "        \n",
        "        '''\n",
        "        net.train()\n",
        "        \n",
        "        opt = torch.optim.Adam(net.parameters(), lr=lr)\n",
        "        criterion = nn.CrossEntropyLoss()\n",
        "        \n",
        "        # create training and validation data\n",
        "        val_idx = int(len(data)*(1-val_frac))\n",
        "        data, val_data = data[:val_idx], data[val_idx:]\n",
        "        \n",
        "        if(train_on_gpu):\n",
        "            net.cuda()\n",
        "        \n",
        "        counter = 0\n",
        "        n_chars = len(net.chars)\n",
        "        for e in range(epochs):\n",
        "            # initialize hidden state\n",
        "            h = net.init_hidden(batch_size)\n",
        "            \n",
        "            for x, y in get_batches(data, batch_size, seq_length):\n",
        "                counter += 1\n",
        "                \n",
        "                # One-hot encode our data and make them Torch tensors\n",
        "                x = one_hot_encode(x, n_chars)\n",
        "                inputs, targets = torch.from_numpy(x), torch.from_numpy(y)\n",
        "                \n",
        "                if(train_on_gpu):\n",
        "                    inputs, targets = inputs.cuda(), targets.cuda()\n",
        "    \n",
        "                # Creating new variables for the hidden state, otherwise\n",
        "                # we'd backprop through the entire training history\n",
        "                h = tuple([each.data for each in h])\n",
        "    \n",
        "                # zero accumulated gradients\n",
        "                net.zero_grad()\n",
        "                \n",
        "                # get the output from the model\n",
        "                output, h = net(inputs, h)\n",
        "                \n",
        "                # calculate the loss and perform backprop\n",
        "                loss = criterion(output, targets.view(batch_size*seq_length).long())\n",
        "                loss.backward()\n",
        "                # `clip_grad_norm` helps prevent the exploding gradient problem in RNNs / LSTMs.\n",
        "                nn.utils.clip_grad_norm_(net.parameters(), clip)\n",
        "                opt.step()\n",
        "                \n",
        "                # loss stats\n",
        "                if counter % print_every == 0:\n",
        "                    # Get validation losstrain_model\n",
        "                    val_h = net.init_hidden(batch_size)\n",
        "                    val_losses = []\n",
        "                    net.eval()\n",
        "                    for x, y in get_batches(val_data, batch_size, seq_length):\n",
        "                        # One-hot encode our data and make them Torch tensors\n",
        "                        x = one_hot_encode(x, n_chars)\n",
        "                        x, y = torch.from_numpy(x), torch.from_numpy(y)\n",
        "                        \n",
        "                        # Creating new variables for the hidden state, otherwise\n",
        "                        # we'd backprop through the entire training history\n",
        "                        val_h = tuple([each.data for each in val_h])\n",
        "                        \n",
        "                        inputs, targets = x, y\n",
        "                        if(train_on_gpu):\n",
        "                            inputs, targets = inputs.cuda(), targets.cuda()\n",
        "    \n",
        "                        output, val_h = net(inputs, val_h)\n",
        "                        val_loss = criterion(output, targets.view(batch_size*seq_length).long())\n",
        "                    \n",
        "                        val_losses.append(val_loss.item())\n",
        "                    \n",
        "                    net.train() # reset to train mode after iterationg through validation data\n",
        "                    \n",
        "                    print(\"Epoch: {}/{}...\".format(e+1, epochs),\n",
        "                          \"Step: {}...\".format(counter),\n",
        "                          \"Loss: {:.4f}...\".format(loss.item()),\n",
        "                          \"Val Loss: {:.4f}\".format(np.mean(val_losses)))"
      ],
      "execution_count": 39,
      "outputs": []
    },
    {
      "cell_type": "code",
      "metadata": {
        "id": "Y074QG1xda_O",
        "colab_type": "code",
        "colab": {
          "base_uri": "https://localhost:8080/",
          "height": 105
        },
        "outputId": "f5cfddbf-7273-4f06-b860-57099d8a0915"
      },
      "source": [
        "## define and print the net\n",
        "n_hidden = 512\n",
        "n_layers = 2\n",
        "\n",
        "net = CharRNN(chars, n_hidden, n_layers)\n",
        "print(net)"
      ],
      "execution_count": 71,
      "outputs": [
        {
          "output_type": "stream",
          "text": [
            "CharRNN(\n",
            "  (lstm): LSTM(176, 512, num_layers=2, batch_first=True, dropout=0.5)\n",
            "  (dropout): Dropout(p=0.5, inplace=False)\n",
            "  (fc): Linear(in_features=512, out_features=176, bias=True)\n",
            ")\n"
          ],
          "name": "stdout"
        }
      ]
    },
    {
      "cell_type": "code",
      "metadata": {
        "id": "ghwshTXJdbBk",
        "colab_type": "code",
        "colab": {
          "base_uri": "https://localhost:8080/",
          "height": 567
        },
        "outputId": "6fffd6e8-c12f-4c1d-8a35-42bab406a246"
      },
      "source": [
        "batch_size = 128\n",
        "seq_length = 100\n",
        "\n",
        "train(net, encoded, epochs=10, batch_size=batch_size, seq_length=seq_length, lr=0.001, print_every=1000)"
      ],
      "execution_count": null,
      "outputs": [
        {
          "output_type": "stream",
          "text": [
            "Epoch: 1/10... Step: 1000... Loss: 2.0460... Val Loss: 2.0354\n",
            "Epoch: 1/10... Step: 2000... Loss: 1.8264... Val Loss: 1.7554\n",
            "Epoch: 1/10... Step: 3000... Loss: 1.6588... Val Loss: 1.6266\n",
            "Epoch: 1/10... Step: 4000... Loss: 1.5721... Val Loss: 1.5593\n",
            "Epoch: 2/10... Step: 5000... Loss: 1.5643... Val Loss: 1.5159\n",
            "Epoch: 2/10... Step: 6000... Loss: 1.5444... Val Loss: 1.4868\n",
            "Epoch: 2/10... Step: 7000... Loss: 1.5380... Val Loss: 1.4669\n",
            "Epoch: 2/10... Step: 8000... Loss: 1.5074... Val Loss: 1.4502\n",
            "Epoch: 3/10... Step: 9000... Loss: 1.4790... Val Loss: 1.4340\n",
            "Epoch: 3/10... Step: 10000... Loss: 1.4776... Val Loss: 1.4243\n",
            "Epoch: 3/10... Step: 11000... Loss: 1.5075... Val Loss: 1.4166\n",
            "Epoch: 3/10... Step: 12000... Loss: 1.4722... Val Loss: 1.4082\n",
            "Epoch: 4/10... Step: 13000... Loss: 1.4265... Val Loss: 1.4000\n",
            "Epoch: 4/10... Step: 14000... Loss: 1.4354... Val Loss: 1.3938\n",
            "Epoch: 4/10... Step: 15000... Loss: 1.4279... Val Loss: 1.3906\n",
            "Epoch: 4/10... Step: 16000... Loss: 1.4398... Val Loss: 1.3847\n",
            "Epoch: 5/10... Step: 17000... Loss: 1.4311... Val Loss: 1.3758\n",
            "Epoch: 5/10... Step: 18000... Loss: 1.3960... Val Loss: 1.3724\n",
            "Epoch: 5/10... Step: 19000... Loss: 1.4006... Val Loss: 1.3706\n",
            "Epoch: 5/10... Step: 20000... Loss: 1.4476... Val Loss: 1.3660\n",
            "Epoch: 5/10... Step: 21000... Loss: 1.4547... Val Loss: 1.3630\n",
            "Epoch: 6/10... Step: 22000... Loss: 1.4072... Val Loss: 1.3588\n",
            "Epoch: 6/10... Step: 23000... Loss: 1.4428... Val Loss: 1.3582\n",
            "Epoch: 6/10... Step: 24000... Loss: 1.3547... Val Loss: 1.3542\n",
            "Epoch: 6/10... Step: 25000... Loss: 1.3853... Val Loss: 1.3518\n",
            "Epoch: 7/10... Step: 26000... Loss: 1.4240... Val Loss: 1.3489\n",
            "Epoch: 7/10... Step: 27000... Loss: 1.3907... Val Loss: 1.3463\n",
            "Epoch: 7/10... Step: 28000... Loss: 1.3987... Val Loss: 1.3444\n",
            "Epoch: 7/10... Step: 29000... Loss: 1.3868... Val Loss: 1.3440\n",
            "Epoch: 8/10... Step: 30000... Loss: 1.4022... Val Loss: 1.3416\n",
            "Epoch: 8/10... Step: 31000... Loss: 1.3965... Val Loss: 1.3385\n"
          ],
          "name": "stdout"
        }
      ]
    },
    {
      "cell_type": "code",
      "metadata": {
        "id": "1hSR5drSdbEI",
        "colab_type": "code",
        "colab": {}
      },
      "source": [
        "def predict(net, char, h=None, top_k=None):\n",
        "        ''' Given a character, predict the next character.\n",
        "            Returns the predicted character and the hidden state.\n",
        "        '''\n",
        "        \n",
        "        # tensor inputs\n",
        "        x = np.array([[net.char2int[char]]])\n",
        "        x = one_hot_encode(x, len(net.chars))\n",
        "        inputs = torch.from_numpy(x)\n",
        "        \n",
        "        if(train_on_gpu):\n",
        "            inputs = inputs.cuda()\n",
        "        \n",
        "        # detach hidden state from history\n",
        "        h = tuple([each.data for each in h])\n",
        "        # get the output of the model\n",
        "        out, h = net(inputs, h)\n",
        "\n",
        "        # get the character probabilities\n",
        "        p = F.softmax(out, dim=1).data\n",
        "        if(train_on_gpu):\n",
        "            p = p.cpu() # move to cpu\n",
        "        \n",
        "        # get top characters\n",
        "        if top_k is None:\n",
        "            top_ch = np.arange(len(net.chars))\n",
        "        else:\n",
        "            p, top_ch = p.topk(top_k)\n",
        "            top_ch = top_ch.numpy().squeeze()\n",
        "        \n",
        "        # select the likely next character with some element of randomness\n",
        "        p = p.numpy().squeeze()\n",
        "        char = np.random.choice(top_ch, p=p/p.sum())\n",
        "        \n",
        "        # return the encoded value of the predicted char and the hidden state\n",
        "        return net.int2char[char], h"
      ],
      "execution_count": 42,
      "outputs": []
    },
    {
      "cell_type": "code",
      "metadata": {
        "id": "z1kqujuddbGk",
        "colab_type": "code",
        "colab": {}
      },
      "source": [
        "def sample(net, size, prime='você', top_k=None):\n",
        "        \n",
        "    if(train_on_gpu):\n",
        "        net.cuda()\n",
        "    else:\n",
        "        net.cpu()\n",
        "    \n",
        "    net.eval() # eval mode\n",
        "    \n",
        "    # First off, run through the prime characters\n",
        "    chars = [ch for ch in prime]\n",
        "    h = net.init_hidden(1)\n",
        "    for ch in prime:\n",
        "        char, h = predict(net, ch, h, top_k=top_k)\n",
        "\n",
        "    chars.append(char)\n",
        "    \n",
        "    # Now pass in the previous character and get a new one\n",
        "    for ii in range(size):\n",
        "        char, h = predict(net, chars[-1], h, top_k=top_k)\n",
        "        chars.append(char)\n",
        "\n",
        "    return ''.join(chars)"
      ],
      "execution_count": 61,
      "outputs": []
    },
    {
      "cell_type": "code",
      "metadata": {
        "id": "iatSkZD_dvBW",
        "colab_type": "code",
        "colab": {
          "base_uri": "https://localhost:8080/",
          "height": 53
        },
        "outputId": "bc9e1c4e-5d65-4d87-bb48-19a7082bc870"
      },
      "source": [
        "poema = sample(net, 200, prime='amor', top_k=2)\n",
        "poema"
      ],
      "execution_count": 67,
      "outputs": [
        {
          "output_type": "execute_result",
          "data": {
            "application/vnd.google.colaboratory.intrinsic": {
              "type": "string"
            },
            "text/plain": [
              "'amor, este prazer de amar e de conta de mim, e a minha alma é a minha alegria....  A mentira do coração é a mesma esperança. A mesa está provoco o meu passado em todas as coisas. A casa é uma canção de sen'"
            ]
          },
          "metadata": {
            "tags": []
          },
          "execution_count": 67
        }
      ]
    },
    {
      "cell_type": "code",
      "metadata": {
        "id": "1IYlRQZVnMYZ",
        "colab_type": "code",
        "colab": {
          "base_uri": "https://localhost:8080/",
          "height": 53
        },
        "outputId": "7c9b5641-dbc9-45c0-af1f-e5adb847e8d0"
      },
      "source": [
        "poema = sample(net, 200, prime='amor', top_k=20)\n",
        "poema"
      ],
      "execution_count": 63,
      "outputs": [
        {
          "output_type": "execute_result",
          "data": {
            "application/vnd.google.colaboratory.intrinsic": {
              "type": "string"
            },
            "text/plain": [
              "'amor. O caso, mesmo há humanas chorando, chovem e bronzenados de claro cegodepois de emergirtantes do desejo.Abrindo-me à hora, os prestádiospobreráviques eixes, franzes.Mas sei aos murmúrios dos dias,os p'"
            ]
          },
          "metadata": {
            "tags": []
          },
          "execution_count": 63
        }
      ]
    },
    {
      "cell_type": "code",
      "metadata": {
        "id": "LKOROn8yonpL",
        "colab_type": "code",
        "colab": {
          "base_uri": "https://localhost:8080/",
          "height": 53
        },
        "outputId": "cc105af9-9fce-4346-bc15-9dde2b356a08"
      },
      "source": [
        "poema = sample(net, 200, prime='amor', top_k=100)\n",
        "poema"
      ],
      "execution_count": 65,
      "outputs": [
        {
          "output_type": "execute_result",
          "data": {
            "application/vnd.google.colaboratory.intrinsic": {
              "type": "string"
            },
            "text/plain": [
              "'amor; se um madulo se lireia onde cãos-dia, como ora universal apenas expressa da escravidão e o nosso bambe se passa um tiráculo daquela dor; e se ao pescar-lhe morro, tanta paixão de Primavera. Mas me pe'"
            ]
          },
          "metadata": {
            "tags": []
          },
          "execution_count": 65
        }
      ]
    },
    {
      "cell_type": "code",
      "metadata": {
        "id": "s6mbQByZBjNh",
        "colab_type": "code",
        "colab": {}
      },
      "source": [
        ""
      ],
      "execution_count": 46,
      "outputs": []
    }
  ]
}